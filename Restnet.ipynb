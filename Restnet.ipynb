{
 "cells": [
  {
   "cell_type": "code",
   "execution_count": null,
   "metadata": {},
   "outputs": [],
   "source": [
    "import cv2\n",
    "import mediapipe as mp\n",
    "import numpy as np\n",
    "import tensorflow as tf\n",
    "\n",
    "# Load Mediapipe selfie segmentation model\n",
    "mp_selfie_segmentation = mp.solutions.selfie_segmentation\n",
    "selfie_segmentation = mp_selfie_segmentation.SelfieSegmentation(model_selection=1)\n",
    "\n",
    "# Load ResNet-50 (Assuming it's trained on FashionNet dataset)\n",
    "fashion_model = tf.keras.applications.ResNet50(weights='imagenet')  # Replace with your trained model\n",
    "\n",
    "##https://www.youtube.com/watch?v=MCCIQQaRHSg"
   ]
  },
  {
   "cell_type": "code",
   "execution_count": null,
   "metadata": {},
   "outputs": [],
   "source": [
    "def segment_selfie(image):\n",
    "    rgb_image = cv2.cvtColor(image, cv2.COLOR_BGR2RGB)\n",
    "    result = selfie_segmentation.process(rgb_image)\n",
    "\n",
    "    # Create mask\n",
    "    mask = result.segmentation_mask\n",
    "    mask = (mask > 0.5).astype(np.uint8) * 255  # Binary mask\n",
    "\n",
    "    # Apply mask\n",
    "    segmented = cv2.bitwise_and(image, image, mask=mask)\n",
    "    return segmented\n",
    "\n",
    "def preprocess_for_resnet(image):\n",
    "    image = cv2.resize(image, (224, 224))\n",
    "    image = np.expand_dims(image, axis=0)  # ResNet expects batch input\n",
    "    image = tf.keras.applications.resnet50.preprocess_input(image)\n",
    "    return image\n",
    "\n",
    "def detect_fashion(image):\n",
    "    processed_img = preprocess_for_resnet(image)\n",
    "    predictions = fashion_model.predict(processed_img)\n",
    "    decoded_predictions = tf.keras.applications.resnet50.decode_predictions(predictions, top=3)\n",
    "    return decoded_predictions\n",
    "\n",
    "# Capture a selfie\n",
    "cap = cv2.VideoCapture(0)\n",
    "while cap.isOpened():\n",
    "    ret, frame = cap.read()\n",
    "    if not ret:\n",
    "        break\n",
    "\n",
    "    segmented_image = segment_selfie(frame)\n",
    "\n",
    "    # Display\n",
    "    cv2.imshow('Segmented Selfie', segmented_image)\n",
    "    \n",
    "\n",
    "\n",
    "    if cv2.waitKey(1) & 0xFF == ord('q'):\n",
    "        break\n",
    "\n",
    "cap.release()\n",
    "cv2.destroyAllWindows()\n"
   ]
  },
  {
   "cell_type": "code",
   "execution_count": null,
   "metadata": {},
   "outputs": [],
   "source": [
    "def preprocess_for_resnet(image):\n",
    "    image = cv2.resize(image, (224, 224))\n",
    "    image = np.expand_dims(image, axis=0)  # ResNet expects batch input\n",
    "    image = tf.keras.applications.resnet50.preprocess_input(image)\n",
    "    return image\n",
    "\n",
    "def detect_fashion(image):\n",
    "    processed_img = preprocess_for_resnet(image)\n",
    "    predictions = fashion_model.predict(processed_img)\n",
    "    decoded_predictions = tf.keras.applications.resnet50.decode_predictions(predictions, top=3)\n",
    "    return decoded_predictions\n",
    "\n",
    "# Example usage\n",
    "fashion_predictions = detect_fashion(segmented_image)\n",
    "print(fashion_predictions)\n"
   ]
  }
 ],
 "metadata": {
  "kernelspec": {
   "display_name": "base",
   "language": "python",
   "name": "python3"
  },
  "language_info": {
   "codemirror_mode": {
    "name": "ipython",
    "version": 3
   },
   "file_extension": ".py",
   "mimetype": "text/x-python",
   "name": "python",
   "nbconvert_exporter": "python",
   "pygments_lexer": "ipython3",
   "version": "3.12.7"
  }
 },
 "nbformat": 4,
 "nbformat_minor": 2
}
